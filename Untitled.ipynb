{
 "cells": [
  {
   "cell_type": "code",
   "execution_count": 9,
   "id": "d9b9f53c",
   "metadata": {},
   "outputs": [],
   "source": [
    "from PyQt5.QtWidgets import *"
   ]
  },
  {
   "cell_type": "code",
   "execution_count": 6,
   "id": "93ce4428",
   "metadata": {},
   "outputs": [
    {
     "ename": "SystemExit",
     "evalue": "0",
     "output_type": "error",
     "traceback": [
      "An exception has occurred, use %tb to see the full traceback.\n",
      "\u001b[1;31mSystemExit\u001b[0m\u001b[1;31m:\u001b[0m 0\n"
     ]
    }
   ],
   "source": [
    "w = QWidget()\n",
    "horizontalGroupBox = QGroupBox(w)\n",
    "horizontalGroupBox.\n",
    "w.setWindowTitle(\"PyQt5\")\n",
    "w.show()\n",
    "sys.exit(app.exec_())"
   ]
  },
  {
   "cell_type": "code",
   "execution_count": 10,
   "id": "5d221793",
   "metadata": {},
   "outputs": [],
   "source": [
    "from PyQt5.QtWidgets import QGroupBox"
   ]
  },
  {
   "cell_type": "code",
   "execution_count": 1,
   "id": "39884ff1",
   "metadata": {},
   "outputs": [
    {
     "ename": "SystemExit",
     "evalue": "0",
     "output_type": "error",
     "traceback": [
      "An exception has occurred, use %tb to see the full traceback.\n",
      "\u001b[1;31mSystemExit\u001b[0m\u001b[1;31m:\u001b[0m 0\n"
     ]
    },
    {
     "name": "stderr",
     "output_type": "stream",
     "text": [
      "c:\\users\\speed\\anaconda3\\envs\\assign\\lib\\site-packages\\IPython\\core\\interactiveshell.py:3351: UserWarning: To exit: use 'exit', 'quit', or Ctrl-D.\n",
      "  warn(\"To exit: use 'exit', 'quit', or Ctrl-D.\", stacklevel=1)\n"
     ]
    }
   ],
   "source": [
    "from PyQt5.QtCore import Qt\n",
    "from PyQt5.QtWidgets import QApplication\n",
    "from PyQt5.QtWidgets import QGridLayout\n",
    "from PyQt5.QtWidgets import QWidget\n",
    "from pyqt_led import Led\n",
    "import numpy as np\n",
    "import sys\n",
    "\n",
    "\n",
    "class Demo(QWidget):\n",
    "    def __init__(self, parent=None):\n",
    "        QWidget.__init__(self, parent)\n",
    "        self._shape = np.array(['capsule', 'circle', 'rectangle'])\n",
    "        self._color = np.array(['blue', 'green', 'orange', 'purple', 'red',\n",
    "                                'yellow'])\n",
    "        self._layout = QGridLayout(self)\n",
    "        self._create_leds()\n",
    "        self._arrange_leds()\n",
    "\n",
    "    def keyPressEvent(self, e):\n",
    "        if e.key() == Qt.Key_Escape:\n",
    "            self.close()\n",
    "\n",
    "    def _create_leds(self):\n",
    "        for s in self._shape:\n",
    "            for c in self._color:\n",
    "                exec('self._{}_{} = Led(self, on_color=Led.{}, shape=Led.{})'\n",
    "                     .format(s, c, c, s))\n",
    "                exec('self._{}_{}.setFocusPolicy(Qt.NoFocus)'.format(s, c))\n",
    "\n",
    "    def _arrange_leds(self):\n",
    "        for r in range(3):\n",
    "            for c in range(6):\n",
    "                exec('self._layout.addWidget(self._{}_{}, {}, {}, 1, 1, \\\n",
    "                      Qt.AlignCenter)'\n",
    "                     .format(self._shape[r], self._color[c], r, c))\n",
    "                c += 1\n",
    "            r += 1\n",
    "\n",
    "app = QApplication(sys.argv)\n",
    "demo = Demo()\n",
    "demo.show()\n",
    "sys.exit(app.exec_())"
   ]
  },
  {
   "cell_type": "code",
   "execution_count": null,
   "id": "db6a62b4",
   "metadata": {},
   "outputs": [],
   "source": [
    "import sys\n",
    "from PyQt4.QtCore import *\n",
    "from PyQt4.QtGui import *\n",
    "\n",
    "def window():\n",
    "   app = QApplication(sys.argv)\n",
    "   win = QWidget()\n",
    "   grid = QGridLayout()\n",
    "\t\n",
    "   for i in range(1,5):\n",
    "      for j in range(1,5):\n",
    "         grid.addWidget(QPushButton(\"B\"+str(i)+str(j)),i,j)\n",
    "\t\t\t\n",
    "   win.setLayout(grid)\n",
    "   win.setGeometry(100,100,200,100)\n",
    "   win.setWindowTitle(\"PyQt\")\n",
    "   win.show()\n",
    "   sys.exit(app.exec_())\n",
    "\n",
    "if __name__ == '__main__':\n",
    "   window()"
   ]
  },
  {
   "cell_type": "code",
   "execution_count": null,
   "id": "86e07721",
   "metadata": {},
   "outputs": [],
   "source": [
    "import sys\n",
    "from PyQt5.QtGui     import *\n",
    "from PyQt5.QtCore    import *\n",
    "from PyQt5.QtWidgets import *\n",
    "class Widget(QWidget):\n",
    "    def __init__(self):\n",
    "        super().__init__()\n",
    "\n",
    "    def paintEvent(self, event):\n",
    "        painter = QPainter(self)\n",
    "        painter.setPen(Qt.red)\n",
    "        painter.setBrush(QBrush(Qt.red, Qt.SolidPattern))\n",
    "        painter.drawRect(40, 40, 400, 20)\n",
    "\n",
    "\n",
    "\n",
    "if __name__ == '__main__':\n",
    "    app = QApplication(sys.argv)\n",
    "    ex = Widget()\n",
    "    ex.resize(400, 280)\n",
    "    ex.show()\n",
    "    sys.exit(app.exec_())"
   ]
  },
  {
   "cell_type": "code",
   "execution_count": null,
   "id": "d1c8f662",
   "metadata": {},
   "outputs": [],
   "source": []
  },
  {
   "cell_type": "code",
   "execution_count": 3,
   "id": "499371f9",
   "metadata": {},
   "outputs": [
    {
     "data": {
      "text/plain": [
       "<pymongo.results.InsertManyResult at 0x1b9aba60ec8>"
      ]
     },
     "execution_count": 3,
     "metadata": {},
     "output_type": "execute_result"
    }
   ],
   "source": [
    "from pymongo import MongoClient\n",
    "import os\n",
    "client = MongoClient('mongodb://localhost:27017/')\n",
    "db = client['assignment']\n",
    "coll=db[\"switchon\"]\n",
    "\n",
    "al=[]\n",
    "count=1\n",
    "for i in os.listdir(\"D:\\\\suman\\\\img\"):\n",
    "    d=dict()\n",
    "    d[\"SKU Id\"]=str(i)\n",
    "    d[\"Unit Id\"]=count\n",
    "    if count%6==0:\n",
    "        d[\"Status\"]=\"bad\"\n",
    "    else:\n",
    "        d[\"Status\"]=\"good\"\n",
    "\n",
    "\n",
    "    count=count+1\n",
    "    al.append(d)\n",
    "coll.insert_many(al)\n",
    " \n"
   ]
  },
  {
   "cell_type": "code",
   "execution_count": null,
   "id": "e63798ae",
   "metadata": {},
   "outputs": [],
   "source": [
    "from PyQt5.QtWidgets import (QWidget, QSlider, QLineEdit, QLabel, QPushButton, QScrollArea,QApplication,\n",
    "                             QHBoxLayout, QVBoxLayout, QMainWindow,QGridLayout)\n",
    "from PyQt5.QtCore import Qt, QSize\n",
    "from PyQt5 import QtWidgets, uic\n",
    "import sys,os\n",
    "from PyQt5.QtCore import *\n",
    "from PyQt5.QtGui import *\n",
    "from PyQt5.QtWidgets import *\n",
    "\n",
    "\n",
    "class MainWindow(QMainWindow):\n",
    "\n",
    "    def __init__(self):\n",
    "        super().__init__()\n",
    "        self.initUI()\n",
    "\n",
    "    def initUI(self):\n",
    "        self.scroll = QScrollArea()             # Scroll Area which contains the widgets, set as the centralWidget\n",
    "        self.widget = QWidget()                 # Widget that contains the collection of Vertical Box\n",
    "        \n",
    "        self.vbox = QGridLayout()               # The Vertical Box that contains the Horizontal Boxes of  labels and buttons\n",
    "        self.vbox.addWidget(QPushButton(\"Add\"),0,5)\n",
    "        self.vbox.addWidget(QPushButton(\"Good\"),0,6)\n",
    "        self.vbox.addWidget(QPushButton(\"Bad\"),0,7)\n",
    "        row=2\n",
    "        column=0\n",
    "        for i in os.listdir(\"D:\\\\suman\\\\img\\\\\"):\n",
    "           label = QLabel()\n",
    "           pixmap = QPixmap('D:\\\\suman\\\\img\\\\'+i)\n",
    "           label.setPixmap(pixmap)\n",
    "           pixmap = pixmap.scaled(100, 100)\n",
    "           label.setPixmap(pixmap)\n",
    "\n",
    "           self.vbox.addWidget(label,row,column)\n",
    "           column=column+1\n",
    "           if column%10==0 :\n",
    "                row=row+1\n",
    "                column=0\n",
    "\n",
    "        self.widget.setLayout(self.vbox)\n",
    "\n",
    "        #Scroll Area Properties\n",
    "        self.scroll.setVerticalScrollBarPolicy(Qt.ScrollBarAlwaysOn)\n",
    "        self.scroll.setHorizontalScrollBarPolicy(Qt.ScrollBarAlwaysOn)\n",
    "        self.scroll.setWidgetResizable(True)\n",
    "        self.scroll.setWidget(self.widget)\n",
    "\n",
    "        self.setCentralWidget(self.scroll)\n",
    "\n",
    "        self.setGeometry(600, 100, 1000, 900)\n",
    "        self.setWindowTitle('Scroll Area Demonstration')\n",
    "        self.show()\n",
    "\n",
    "        return\n",
    "\n",
    "def main():\n",
    "    app = QtWidgets.QApplication(sys.argv)\n",
    "    main = MainWindow()\n",
    "    sys.exit(app.exec_())\n",
    "\n",
    "if __name__ == '__main__':\n",
    "    main()"
   ]
  }
 ],
 "metadata": {
  "kernelspec": {
   "display_name": "Python 3",
   "language": "python",
   "name": "python3"
  },
  "language_info": {
   "codemirror_mode": {
    "name": "ipython",
    "version": 3
   },
   "file_extension": ".py",
   "mimetype": "text/x-python",
   "name": "python",
   "nbconvert_exporter": "python",
   "pygments_lexer": "ipython3",
   "version": "3.6.9"
  }
 },
 "nbformat": 4,
 "nbformat_minor": 5
}
